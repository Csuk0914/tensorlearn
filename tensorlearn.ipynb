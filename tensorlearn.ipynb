{
 "cells": [
  {
   "cell_type": "code",
   "execution_count": 14,
   "metadata": {
    "collapsed": false
   },
   "outputs": [
    {
     "name": "stdout",
     "output_type": "stream",
     "text": [
      "(0, array([ 0.3848241], dtype=float32), array([ 0.19791888], dtype=float32))\n",
      "(20, array([ 0.18003799], dtype=float32), array([ 0.25590482], dtype=float32))\n",
      "(40, array([ 0.1244836], dtype=float32), array([ 0.2865113], dtype=float32))\n",
      "(60, array([ 0.10748952], dtype=float32), array([ 0.29587382], dtype=float32))\n",
      "(80, array([ 0.10229106], dtype=float32), array([ 0.29873782], dtype=float32))\n",
      "(100, array([ 0.10070084], dtype=float32), array([ 0.29961389], dtype=float32))\n",
      "(120, array([ 0.1002144], dtype=float32), array([ 0.29988188], dtype=float32))\n",
      "(140, array([ 0.10006558], dtype=float32), array([ 0.29996389], dtype=float32))\n",
      "(160, array([ 0.10002008], dtype=float32), array([ 0.29998896], dtype=float32))\n",
      "(180, array([ 0.10000616], dtype=float32), array([ 0.29999661], dtype=float32))\n",
      "(200, array([ 0.10000189], dtype=float32), array([ 0.29999897], dtype=float32))\n"
     ]
    }
   ],
   "source": [
    "import tensorflow as tf\n",
    "import numpy as np\n",
    "\n",
    "\n",
    "### 回归的例子==================================\n",
    "# create data\n",
    "x_data = np.random.rand(100).astype(np.float32)\n",
    "y_data = x_data*0.1 + 0.3\n",
    "\n",
    "Weights = tf.Variable(tf.random_uniform([1],-1.0,1.0))\n",
    "biases = tf.Variable(tf.zeros([1]))\n",
    "\n",
    "#预测值\n",
    "y=Weights*x_data + biases\n",
    "\n",
    "#预测的误差\n",
    "loss = tf.reduce_mean(tf.square(y-y_data))\n",
    "\n",
    "#优化器\n",
    "optimizer = tf.train.GradientDescentOptimizer(0.5)\n",
    "train = optimizer.minimize(loss)\n",
    "\n",
    "#初始化所有的var\n",
    "init = tf.initialize_all_variables()\n",
    "#init = tf.global_variables_initializer()  # 替换成这样就好\n",
    "\n",
    "#创建会话\n",
    "sess=tf.Session()\n",
    "sess.run(init)\n",
    "\n",
    "for step in range(201):\n",
    "    sess.run(train)\n",
    "    if (step % 20) == 0:\n",
    "        print(step,sess.run(Weights),sess.run(biases))\n",
    "sess.close()"
   ]
  },
  {
   "cell_type": "code",
   "execution_count": 15,
   "metadata": {
    "collapsed": false
   },
   "outputs": [
    {
     "name": "stdout",
     "output_type": "stream",
     "text": [
      "[[12]]\n",
      "[[12]]\n"
     ]
    }
   ],
   "source": [
    "### sess会话控制==================================\n",
    "import tensorflow as tf\n",
    "\n",
    "# create two matrixes\n",
    "\n",
    "matrix1 = tf.constant([[3,3]])\n",
    "matrix2 = tf.constant([[2],\n",
    "                       [2]])\n",
    "product = tf.matmul(matrix1,matrix2)\n",
    "\n",
    "# method 1\n",
    "sess = tf.Session()\n",
    "result = sess.run(product)\n",
    "print(result)\n",
    "sess.close()\n",
    "# [[12]]\n",
    "\n",
    "# method 2\n",
    "with tf.Session() as sess:\n",
    "    result2 = sess.run(product)\n",
    "    print(result2)\n",
    "# [[12]]"
   ]
  },
  {
   "cell_type": "code",
   "execution_count": null,
   "metadata": {
    "collapsed": true
   },
   "outputs": [],
   "source": []
  },
  {
   "cell_type": "code",
   "execution_count": 16,
   "metadata": {
    "collapsed": false
   },
   "outputs": [
    {
     "name": "stdout",
     "output_type": "stream",
     "text": [
      "[ 14.]\n"
     ]
    }
   ],
   "source": [
    "### Placeholder 传入值==================================\n",
    "import tensorflow as tf\n",
    "\n",
    "#在 Tensorflow 中需要定义 placeholder 的 type ，一般为 float32 形式\n",
    "input1 = tf.placeholder(tf.float32)\n",
    "input2 = tf.placeholder(tf.float32)\n",
    "\n",
    "# mul = multiply 是将input1和input2 做乘法运算，并输出为 output \n",
    "ouput = tf.mul(input1, input2)\n",
    "\n",
    "with tf.Session() as sess:\n",
    "    print(sess.run(ouput, feed_dict={input1: [7.], input2: [2.]}))\n",
    "# [ 14.]"
   ]
  },
  {
   "cell_type": "code",
   "execution_count": 19,
   "metadata": {
    "collapsed": false
   },
   "outputs": [],
   "source": [
    "### 添加层==================================\n",
    "def add_layer(inputs,in_size,out_size,activation_function=None):\n",
    "    Weights = tf.Variable(tf.random_normal([in_size,out_size])) #in_size样本feature数量 outsize 神经元数量\n",
    "    biases = tf.variable(tf.zeros([1,out_size]))\n",
    "    Wx_plus_b = tf.matmul(inputs, Weights) + biases\n",
    "    if activation_function==None:\n",
    "        outputs = Wx_plus_b\n",
    "    else:\n",
    "        outputs = activation_function(Wx_plus_b)\n",
    "    return outputs"
   ]
  },
  {
   "cell_type": "code",
   "execution_count": null,
   "metadata": {
    "collapsed": true
   },
   "outputs": [],
   "source": []
  }
 ],
 "metadata": {
  "anaconda-cloud": {},
  "kernelspec": {
   "display_name": "Python [conda env:tensorflow]",
   "language": "python",
   "name": "conda-env-tensorflow-py"
  },
  "language_info": {
   "codemirror_mode": {
    "name": "ipython",
    "version": 2
   },
   "file_extension": ".py",
   "mimetype": "text/x-python",
   "name": "python",
   "nbconvert_exporter": "python",
   "pygments_lexer": "ipython2",
   "version": "2.7.13"
  }
 },
 "nbformat": 4,
 "nbformat_minor": 2
}
